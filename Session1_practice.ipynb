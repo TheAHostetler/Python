{
  "nbformat": 4,
  "nbformat_minor": 0,
  "metadata": {
    "colab": {
      "name": "Session1_practice",
      "provenance": [],
      "authorship_tag": "ABX9TyO92Ounqe4z4BzYgcQoSard",
      "include_colab_link": true
    },
    "kernelspec": {
      "name": "python3",
      "display_name": "Python 3"
    },
    "language_info": {
      "name": "python"
    }
  },
  "cells": [
    {
      "cell_type": "markdown",
      "metadata": {
        "id": "view-in-github",
        "colab_type": "text"
      },
      "source": [
        "<a href=\"https://colab.research.google.com/github/TheAHostetler/Python/blob/main/Session1_practice.ipynb\" target=\"_parent\"><img src=\"https://colab.research.google.com/assets/colab-badge.svg\" alt=\"Open In Colab\"/></a>"
      ]
    },
    {
      "cell_type": "markdown",
      "metadata": {
        "id": "SM8WPqOnrn4Q"
      },
      "source": [
        "#This is a practice notebook\n",
        "I'm learning to use Google Colab notebooks to work with python!\n",
        "\n",
        "This practice script calculates the area and perimeter of a cricle."
      ]
    },
    {
      "cell_type": "code",
      "metadata": {
        "colab": {
          "base_uri": "https://localhost:8080/"
        },
        "id": "V71xL0gDrjRZ",
        "outputId": "35d79870-90ff-4365-b448-0e675585716c"
      },
      "source": [
        "'''\n",
        "Author: Andrew Hostetler\n",
        "Created: 4/13/21\n",
        "Notes: The script below calcuates the area and perimeter of a circle given a radius of 2.\n",
        "'''\n",
        "\n",
        "#Define variables and assign values\n",
        "pi = 3.14 \n",
        "r = 2.0 #radius\n",
        "\n",
        "#Define calculations\n",
        "area = pi*(r**2)\n",
        "perim = 2*pi*r #perimeter\n",
        "\n",
        "#Print results\n",
        "print (\"Given radius\", str(r)+\",\")\n",
        "print (\"the area of a circle is\", area)\n",
        "print (\"and the permimeter of this cricle is\", str(perim)+\".\")"
      ],
      "execution_count": 5,
      "outputs": [
        {
          "output_type": "stream",
          "text": [
            "Given radius 2.0,\n",
            "the area of a circle is 12.56\n",
            "and the permimeter of this cricle is 12.56.\n"
          ],
          "name": "stdout"
        }
      ]
    }
  ]
}